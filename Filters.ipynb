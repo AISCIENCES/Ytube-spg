{
 "cells": [
  {
   "cell_type": "code",
   "execution_count": 1,
   "metadata": {},
   "outputs": [],
   "source": [
    "import cv2"
   ]
  },
  {
   "cell_type": "code",
   "execution_count": 2,
   "metadata": {},
   "outputs": [
    {
     "data": {
      "text/plain": [
       "True"
      ]
     },
     "execution_count": 2,
     "metadata": {},
     "output_type": "execute_result"
    }
   ],
   "source": [
    "image = cv2.imread(r\"C:\\Users\\mg\\Desktop\\Normal to sketch\\test_image.jpg\")\n",
    "gray_image = cv2.cvtColor(image, cv2.COLOR_BGR2GRAY)\n",
    "cv2.imwrite(r\"C:\\Users\\mg\\Desktop\\Normal to sketch\\test_image_grey.jpg\", gray_image)\n",
    "\n",
    "inverted_image = 255 - gray_image\n",
    "cv2.imwrite(r\"C:\\Users\\mg\\Desktop\\Normal to sketch\\test_image_inverted.jpg\", inverted_image)\n",
    "\n",
    "blurred_image = cv2.GaussianBlur(inverted_image, (21,21),0)\n",
    "cv2.imwrite(r\"C:\\Users\\mg\\Desktop\\Normal to sketch\\test_image_blurred.jpg\", blurred_image)\n",
    "\n",
    "inverted_blurred = 255 - blurred_image\n",
    "pencil_sketch = cv2.divide(gray_image, inverted_blurred, scale= 256.0)\n",
    "cv2.imwrite(r\"C:\\Users\\mg\\Desktop\\Normal to sketch\\test_image_sketch.jpg\", pencil_sketch)"
   ]
  },
  {
   "cell_type": "code",
   "execution_count": null,
   "metadata": {},
   "outputs": [],
   "source": []
  },
  {
   "cell_type": "code",
   "execution_count": null,
   "metadata": {},
   "outputs": [],
   "source": []
  },
  {
   "cell_type": "code",
   "execution_count": null,
   "metadata": {},
   "outputs": [],
   "source": []
  },
  {
   "cell_type": "code",
   "execution_count": null,
   "metadata": {},
   "outputs": [],
   "source": []
  },
  {
   "cell_type": "code",
   "execution_count": null,
   "metadata": {},
   "outputs": [],
   "source": []
  },
  {
   "cell_type": "code",
   "execution_count": null,
   "metadata": {},
   "outputs": [],
   "source": []
  },
  {
   "cell_type": "code",
   "execution_count": null,
   "metadata": {},
   "outputs": [],
   "source": []
  },
  {
   "cell_type": "code",
   "execution_count": null,
   "metadata": {},
   "outputs": [],
   "source": []
  }
 ],
 "metadata": {
  "kernelspec": {
   "display_name": "Python 3",
   "language": "python",
   "name": "python3"
  },
  "language_info": {
   "codemirror_mode": {
    "name": "ipython",
    "version": 3
   },
   "file_extension": ".py",
   "mimetype": "text/x-python",
   "name": "python",
   "nbconvert_exporter": "python",
   "pygments_lexer": "ipython3",
   "version": "3.8.3"
  }
 },
 "nbformat": 4,
 "nbformat_minor": 4
}
